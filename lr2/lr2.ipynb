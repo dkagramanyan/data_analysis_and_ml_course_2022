{
 "cells": [
  {
   "cell_type": "code",
   "execution_count": 11,
   "metadata": {
    "collapsed": true,
    "pycharm": {
     "name": "#%%\n"
    }
   },
   "outputs": [],
   "source": [
    "import numpy as np # linear algebra\n",
    "import pandas as pd # data processing, CSV file I/O (e.g. pd.read_csv)\n",
    "from subprocess import check_output\n",
    "from sklearn.metrics import make_scorer, mean_squared_error\n",
    "from sklearn.model_selection import train_test_split,cross_val_score\n",
    "from sklearn import preprocessing\n",
    "import xgboost as xgb\n",
    "import scipy.stats as stats\n",
    "import gc"
   ]
  },
  {
   "cell_type": "code",
   "execution_count": 13,
   "outputs": [
    {
     "name": "stdout",
     "output_type": "stream",
     "text": [
      "Train and Test Read\n",
      "Train and Test Concat\n",
      "Lag: Lag1\n"
     ]
    },
    {
     "name": "stderr",
     "output_type": "stream",
     "text": [
      "/var/folders/zs/yzy0xdy166x3hv5mvqzqrnlm0000gn/T/ipykernel_26852/3371105216.py:24: SettingWithCopyWarning: \n",
      "A value is trying to be set on a copy of a slice from a DataFrame.\n",
      "Try using .loc[row_indexer,col_indexer] = value instead\n",
      "\n",
      "See the caveats in the documentation: https://pandas.pydata.org/pandas-docs/stable/user_guide/indexing.html#returning-a-view-versus-a-copy\n",
      "  data1.loc[:,'Semana'] = data1['Semana'] +i\n"
     ]
    },
    {
     "ename": "AttributeError",
     "evalue": "module 'pandas' has no attribute 'groupby'",
     "output_type": "error",
     "traceback": [
      "\u001B[0;31m---------------------------------------------------------------------------\u001B[0m",
      "\u001B[0;31mAttributeError\u001B[0m                            Traceback (most recent call last)",
      "Input \u001B[0;32mIn [13]\u001B[0m, in \u001B[0;36m<cell line: 19>\u001B[0;34m()\u001B[0m\n\u001B[1;32m     23\u001B[0m data1 \u001B[38;5;241m=\u001B[39m data[[\u001B[38;5;124m'\u001B[39m\u001B[38;5;124mSemana\u001B[39m\u001B[38;5;124m'\u001B[39m,\u001B[38;5;124m'\u001B[39m\u001B[38;5;124mCliente_ID\u001B[39m\u001B[38;5;124m'\u001B[39m,\u001B[38;5;124m'\u001B[39m\u001B[38;5;124mProducto_ID\u001B[39m\u001B[38;5;124m'\u001B[39m,\u001B[38;5;124m'\u001B[39m\u001B[38;5;124mtarget\u001B[39m\u001B[38;5;124m'\u001B[39m]]\n\u001B[1;32m     24\u001B[0m data1\u001B[38;5;241m.\u001B[39mloc[:,\u001B[38;5;124m'\u001B[39m\u001B[38;5;124mSemana\u001B[39m\u001B[38;5;124m'\u001B[39m] \u001B[38;5;241m=\u001B[39m data1[\u001B[38;5;124m'\u001B[39m\u001B[38;5;124mSemana\u001B[39m\u001B[38;5;124m'\u001B[39m] \u001B[38;5;241m+\u001B[39mi\n\u001B[0;32m---> 25\u001B[0m data1 \u001B[38;5;241m=\u001B[39m \u001B[43mpd\u001B[49m\u001B[38;5;241;43m.\u001B[39;49m\u001B[43mgroupby\u001B[49m(data1,[\u001B[38;5;124m'\u001B[39m\u001B[38;5;124mSemana\u001B[39m\u001B[38;5;124m'\u001B[39m,\u001B[38;5;124m'\u001B[39m\u001B[38;5;124mCliente_ID\u001B[39m\u001B[38;5;124m'\u001B[39m,\u001B[38;5;124m'\u001B[39m\u001B[38;5;124mProducto_ID\u001B[39m\u001B[38;5;124m'\u001B[39m])\u001B[38;5;241m.\u001B[39mmean()\n\u001B[1;32m     26\u001B[0m data1 \u001B[38;5;241m=\u001B[39m data1\u001B[38;5;241m.\u001B[39mreset_index()\n\u001B[1;32m     27\u001B[0m data1\u001B[38;5;241m.\u001B[39mrename(columns\u001B[38;5;241m=\u001B[39m{\u001B[38;5;124m'\u001B[39m\u001B[38;5;124mtarget\u001B[39m\u001B[38;5;124m'\u001B[39m: lag}, inplace\u001B[38;5;241m=\u001B[39m\u001B[38;5;28;01mTrue\u001B[39;00m)\n",
      "File \u001B[0;32m~/opt/anaconda3/envs/torch/lib/python3.9/site-packages/pandas/__init__.py:264\u001B[0m, in \u001B[0;36m__getattr__\u001B[0;34m(name)\u001B[0m\n\u001B[1;32m    260\u001B[0m     \u001B[38;5;28;01mfrom\u001B[39;00m \u001B[38;5;21;01mpandas\u001B[39;00m\u001B[38;5;21;01m.\u001B[39;00m\u001B[38;5;21;01mcore\u001B[39;00m\u001B[38;5;21;01m.\u001B[39;00m\u001B[38;5;21;01marrays\u001B[39;00m\u001B[38;5;21;01m.\u001B[39;00m\u001B[38;5;21;01msparse\u001B[39;00m \u001B[38;5;28;01mimport\u001B[39;00m SparseArray \u001B[38;5;28;01mas\u001B[39;00m _SparseArray\n\u001B[1;32m    262\u001B[0m     \u001B[38;5;28;01mreturn\u001B[39;00m _SparseArray\n\u001B[0;32m--> 264\u001B[0m \u001B[38;5;28;01mraise\u001B[39;00m \u001B[38;5;167;01mAttributeError\u001B[39;00m(\u001B[38;5;124mf\u001B[39m\u001B[38;5;124m\"\u001B[39m\u001B[38;5;124mmodule \u001B[39m\u001B[38;5;124m'\u001B[39m\u001B[38;5;124mpandas\u001B[39m\u001B[38;5;124m'\u001B[39m\u001B[38;5;124m has no attribute \u001B[39m\u001B[38;5;124m'\u001B[39m\u001B[38;5;132;01m{\u001B[39;00mname\u001B[38;5;132;01m}\u001B[39;00m\u001B[38;5;124m'\u001B[39m\u001B[38;5;124m\"\u001B[39m)\n",
      "\u001B[0;31mAttributeError\u001B[0m: module 'pandas' has no attribute 'groupby'"
     ]
    }
   ],
   "source": [
    "train = pd.read_csv('grupo-bimbo-inventory-demand/train.csv')\n",
    "test = pd.read_csv('grupo-bimbo-inventory-demand/test.csv')\n",
    "\n",
    "print('Train and Test Read')\n",
    "\n",
    "train['target'] = train['Demanda_uni_equil']\n",
    "train.drop(['Demanda_uni_equil'],axis=1, inplace = True)\n",
    "\n",
    "train['tst'] = 0\n",
    "test['tst'] = 1\n",
    "\n",
    "data = pd.concat([train,test], axis=0, copy=True)\n",
    "\n",
    "print('Train and Test Concat')\n",
    "del train\n",
    "del test\n",
    "gc.collect()\n",
    "\n",
    "for i in range(1,6):\n",
    "    lag = 'Lag' + str(i)\n",
    "    print('Lag:',lag)\n",
    "\n",
    "    data1 = data[['Semana','Cliente_ID','Producto_ID','target']]\n",
    "    data1.loc[:,'Semana'] = data1['Semana'] +i\n",
    "    data1 = pd.groupby(data1,['Semana','Cliente_ID','Producto_ID']).mean()\n",
    "    data1 = data1.reset_index()\n",
    "    data1.rename(columns={'target': lag}, inplace=True)\n",
    "    data = pd.merge(data,data1,\n",
    "                    how='left',\n",
    "                    left_on=['Semana','Cliente_ID','Producto_ID'],\n",
    "                    right_on=['Semana','Cliente_ID','Producto_ID'],\n",
    "                    left_index=False, right_index=False, sort=True,\n",
    "                    suffixes=('_x', '_y'), copy=False, )\n",
    "    del data1\n",
    "    gc.collect()"
   ],
   "metadata": {
    "collapsed": false,
    "pycharm": {
     "name": "#%%\n"
    }
   }
  },
  {
   "cell_type": "code",
   "execution_count": null,
   "outputs": [],
   "source": [],
   "metadata": {
    "collapsed": false,
    "pycharm": {
     "name": "#%%\n"
    }
   }
  },
  {
   "cell_type": "code",
   "execution_count": 12,
   "outputs": [
    {
     "name": "stdout",
     "output_type": "stream",
     "text": [
      "Train and Test Read\n",
      "Train and Test Concat\n",
      "Lag: Lag1\n"
     ]
    },
    {
     "name": "stderr",
     "output_type": "stream",
     "text": [
      "/var/folders/zs/yzy0xdy166x3hv5mvqzqrnlm0000gn/T/ipykernel_26852/2108532917.py:24: SettingWithCopyWarning: \n",
      "A value is trying to be set on a copy of a slice from a DataFrame.\n",
      "Try using .loc[row_indexer,col_indexer] = value instead\n",
      "\n",
      "See the caveats in the documentation: https://pandas.pydata.org/pandas-docs/stable/user_guide/indexing.html#returning-a-view-versus-a-copy\n",
      "  data1.loc[:,'Semana'] = data1['Semana'] +i\n"
     ]
    },
    {
     "ename": "AttributeError",
     "evalue": "module 'pandas' has no attribute 'groupby'",
     "output_type": "error",
     "traceback": [
      "\u001B[0;31m---------------------------------------------------------------------------\u001B[0m",
      "\u001B[0;31mAttributeError\u001B[0m                            Traceback (most recent call last)",
      "Input \u001B[0;32mIn [12]\u001B[0m, in \u001B[0;36m<cell line: 19>\u001B[0;34m()\u001B[0m\n\u001B[1;32m     23\u001B[0m data1 \u001B[38;5;241m=\u001B[39m data[[\u001B[38;5;124m'\u001B[39m\u001B[38;5;124mSemana\u001B[39m\u001B[38;5;124m'\u001B[39m,\u001B[38;5;124m'\u001B[39m\u001B[38;5;124mCliente_ID\u001B[39m\u001B[38;5;124m'\u001B[39m,\u001B[38;5;124m'\u001B[39m\u001B[38;5;124mProducto_ID\u001B[39m\u001B[38;5;124m'\u001B[39m,\u001B[38;5;124m'\u001B[39m\u001B[38;5;124mtarget\u001B[39m\u001B[38;5;124m'\u001B[39m]]\n\u001B[1;32m     24\u001B[0m data1\u001B[38;5;241m.\u001B[39mloc[:,\u001B[38;5;124m'\u001B[39m\u001B[38;5;124mSemana\u001B[39m\u001B[38;5;124m'\u001B[39m] \u001B[38;5;241m=\u001B[39m data1[\u001B[38;5;124m'\u001B[39m\u001B[38;5;124mSemana\u001B[39m\u001B[38;5;124m'\u001B[39m] \u001B[38;5;241m+\u001B[39mi\n\u001B[0;32m---> 25\u001B[0m data1 \u001B[38;5;241m=\u001B[39m \u001B[43mpd\u001B[49m\u001B[38;5;241;43m.\u001B[39;49m\u001B[43mgroupby\u001B[49m(data1,[\u001B[38;5;124m'\u001B[39m\u001B[38;5;124mSemana\u001B[39m\u001B[38;5;124m'\u001B[39m,\u001B[38;5;124m'\u001B[39m\u001B[38;5;124mCliente_ID\u001B[39m\u001B[38;5;124m'\u001B[39m,\u001B[38;5;124m'\u001B[39m\u001B[38;5;124mProducto_ID\u001B[39m\u001B[38;5;124m'\u001B[39m])\u001B[38;5;241m.\u001B[39mmean()\n\u001B[1;32m     26\u001B[0m data1 \u001B[38;5;241m=\u001B[39m data1\u001B[38;5;241m.\u001B[39mreset_index()\n\u001B[1;32m     27\u001B[0m data1\u001B[38;5;241m.\u001B[39mrename(columns\u001B[38;5;241m=\u001B[39m{\u001B[38;5;124m'\u001B[39m\u001B[38;5;124mtarget\u001B[39m\u001B[38;5;124m'\u001B[39m: lag}, inplace\u001B[38;5;241m=\u001B[39m\u001B[38;5;28;01mTrue\u001B[39;00m)\n",
      "File \u001B[0;32m~/opt/anaconda3/envs/torch/lib/python3.9/site-packages/pandas/__init__.py:264\u001B[0m, in \u001B[0;36m__getattr__\u001B[0;34m(name)\u001B[0m\n\u001B[1;32m    260\u001B[0m     \u001B[38;5;28;01mfrom\u001B[39;00m \u001B[38;5;21;01mpandas\u001B[39;00m\u001B[38;5;21;01m.\u001B[39;00m\u001B[38;5;21;01mcore\u001B[39;00m\u001B[38;5;21;01m.\u001B[39;00m\u001B[38;5;21;01marrays\u001B[39;00m\u001B[38;5;21;01m.\u001B[39;00m\u001B[38;5;21;01msparse\u001B[39;00m \u001B[38;5;28;01mimport\u001B[39;00m SparseArray \u001B[38;5;28;01mas\u001B[39;00m _SparseArray\n\u001B[1;32m    262\u001B[0m     \u001B[38;5;28;01mreturn\u001B[39;00m _SparseArray\n\u001B[0;32m--> 264\u001B[0m \u001B[38;5;28;01mraise\u001B[39;00m \u001B[38;5;167;01mAttributeError\u001B[39;00m(\u001B[38;5;124mf\u001B[39m\u001B[38;5;124m\"\u001B[39m\u001B[38;5;124mmodule \u001B[39m\u001B[38;5;124m'\u001B[39m\u001B[38;5;124mpandas\u001B[39m\u001B[38;5;124m'\u001B[39m\u001B[38;5;124m has no attribute \u001B[39m\u001B[38;5;124m'\u001B[39m\u001B[38;5;132;01m{\u001B[39;00mname\u001B[38;5;132;01m}\u001B[39;00m\u001B[38;5;124m'\u001B[39m\u001B[38;5;124m\"\u001B[39m)\n",
      "\u001B[0;31mAttributeError\u001B[0m: module 'pandas' has no attribute 'groupby'"
     ]
    }
   ],
   "source": [
    "\n",
    "data['TotalLags'] = data['Lag1'] + data['Lag2']+ data['Lag3']+ data['Lag4']+ data['Lag5']\n",
    "\n",
    "data=data[data['Semana']>8]  # NOW I WORK WITH WEEKS 9,10,11\n",
    "\n",
    "nAgencia = pd.DataFrame(pd.groupby(data,['Agencia_ID','Semana'])['target'].count())\n",
    "nAgencia = nAgencia.reset_index()\n",
    "nAgencia.rename(columns={'target': 'nAgencia'}, inplace=True)\n",
    "nAgencia = pd.DataFrame(pd.groupby(nAgencia,['Agencia_ID'])['nAgencia'].mean())\n",
    "nAgencia = nAgencia.reset_index()\n",
    "\n",
    "\n",
    "data = pd.merge(data, nAgencia,\n",
    "                how='left',\n",
    "                left_on=['Agencia_ID'],\n",
    "                right_on=['Agencia_ID'],\n",
    "                left_index=False, right_index=False, sort=True,\n",
    "                suffixes=('_x', '_y'), copy=False)\n",
    "\n",
    "del nAgencia\n",
    "gc.collect()\n",
    "print('merge completo nAgencia')\n",
    "print(data.shape[0])\n",
    "\n",
    "nRuta_SAK = pd.DataFrame(pd.groupby(data,['Ruta_SAK','Semana'])['target'].count())\n",
    "nRuta_SAK = nRuta_SAK.reset_index()\n",
    "nRuta_SAK.rename(columns={'target': 'nRuta_SAK'}, inplace=True)\n",
    "nRuta_SAK = pd.DataFrame(pd.groupby(nRuta_SAK,['Ruta_SAK'])['nRuta_SAK'].mean())\n",
    "nRuta_SAK = nRuta_SAK.reset_index()\n",
    "\n",
    "\n",
    "data = pd.merge(data, nRuta_SAK,\n",
    "                how='left',\n",
    "                left_on=['Ruta_SAK'],\n",
    "                right_on=['Ruta_SAK'],\n",
    "                left_index=False, right_index=False, sort=True,\n",
    "                suffixes=('_x', '_y'), copy=False)\n",
    "\n",
    "del nRuta_SAK\n",
    "gc.collect()\n",
    "print('merge completo nRuta_SAK')\n",
    "print(data.shape[0])\n",
    "\n",
    "nCliente_ID = pd.DataFrame(pd.groupby(data,['Cliente_ID','Semana'])['target'].count())\n",
    "nCliente_ID = nCliente_ID.reset_index()\n",
    "nCliente_ID.rename(columns={'target': 'nCliente_ID'}, inplace=True)\n",
    "nCliente_ID = pd.DataFrame(pd.groupby(nCliente_ID,['Cliente_ID'])['nCliente_ID'].mean())\n",
    "nCliente_ID = nCliente_ID.reset_index()\n",
    "\n",
    "\n",
    "data = pd.merge(data, nCliente_ID,\n",
    "                how='left',\n",
    "                left_on=['Cliente_ID'],\n",
    "                right_on=['Cliente_ID'],\n",
    "                left_index=False, right_index=False, sort=True,\n",
    "                suffixes=('_x', '_y'), copy=False)\n",
    "\n",
    "del nCliente_ID\n",
    "gc.collect()\n",
    "print('merge completo nCliente_ID')\n",
    "print(data.shape[0])\n",
    "\n",
    "nProducto_ID = pd.DataFrame(pd.groupby(data,['Producto_ID','Semana'])['target'].count())\n",
    "nProducto_ID = nProducto_ID.reset_index()\n",
    "nProducto_ID.rename(columns={'target': 'nProducto_ID'}, inplace=True)\n",
    "nProducto_ID = pd.DataFrame(pd.groupby(nProducto_ID,['Producto_ID'])['nProducto_ID'].mean())\n",
    "nProducto_ID = nProducto_ID.reset_index()\n",
    "\n",
    "\n",
    "data = pd.merge(data, nProducto_ID,\n",
    "                how='left',\n",
    "                left_on=['Producto_ID'],\n",
    "                right_on=['Producto_ID'],\n",
    "                left_index=False, right_index=False, sort=True,\n",
    "                suffixes=('_x', '_y'), copy=False)\n",
    "\n",
    "del nProducto_ID\n",
    "gc.collect()\n",
    "print('merge completo nProducto_ID')\n",
    "print(data.shape[0])\n",
    "\n",
    "data.replace(np.nan,0, inplace=True)\n",
    "\n",
    "train = data[data['tst']==0]\n",
    "predict = data[data['tst']==1]\n",
    "\n",
    "train['target'] = np.log(train['target'] + 1)\n",
    "#train2 = train.sample(n=1000000)   <-- another possible reduction of data for fast testing\n",
    "train2 = train\n",
    "y = train['target']\n",
    "X = train[[  'Agencia_ID','Canal_ID','Cliente_ID','Producto_ID','Ruta_SAK',\n",
    "             'Lag1','Lag2','Lag3','Lag4','Lag5','TotalLags',\n",
    "             'nAgencia','nRuta_SAK','nCliente_ID','nProducto_ID']]\n",
    "\n",
    "print(X.shape, y.shape)"
   ],
   "metadata": {
    "collapsed": false,
    "pycharm": {
     "name": "#%%\n"
    }
   }
  },
  {
   "cell_type": "code",
   "execution_count": 9,
   "outputs": [],
   "source": [
    "\n",
    "# split into train and test\n",
    "X_train, X_test, y_train, y_test = train_test_split(X, y, test_size=0.01, random_state=1729)\n",
    "print(X_train.shape, X_test.shape)"
   ],
   "metadata": {
    "collapsed": false,
    "pycharm": {
     "name": "#%%\n"
    }
   }
  }
 ],
 "metadata": {
  "kernelspec": {
   "name": "torch",
   "language": "python",
   "display_name": "torch"
  },
  "language_info": {
   "codemirror_mode": {
    "name": "ipython",
    "version": 2
   },
   "file_extension": ".py",
   "mimetype": "text/x-python",
   "name": "python",
   "nbconvert_exporter": "python",
   "pygments_lexer": "ipython2",
   "version": "2.7.6"
  }
 },
 "nbformat": 4,
 "nbformat_minor": 0
}
{
 "cells": [
  {
   "cell_type": "code",
   "execution_count": null,
   "metadata": {
    "collapsed": true,
    "pycharm": {
     "name": "#%%\n"
    }
   },
   "outputs": [],
   "source": [
    "import numpy as np # linear algebra\n",
    "import pandas as pd # data processing, CSV file I/O (e.g. pd.read_csv)\n",
    "from subprocess import check_output\n",
    "from sklearn.metrics import make_scorer, mean_squared_error\n",
    "from sklearn.model_selection import train_test_split,cross_val_score\n",
    "from sklearn import preprocessing\n",
    "import xgboost as xgb\n",
    "import scipy.stats as stats\n",
    "import seaborn as sns\n",
    "import gc\n",
    "\n",
    "from sklearn.ensemble import RandomForestRegressor\n",
    "import lightgbm as lgb"
   ]
  },
  {
   "cell_type": "code",
   "execution_count": null,
   "outputs": [],
   "source": [
    "train = pd.read_csv('grupo-bimbo-inventory-demand/train.csv')\n",
    "test = pd.read_csv('grupo-bimbo-inventory-demand/test.csv')\n",
    "\n",
    "print('Train and Test Read')"
   ],
   "metadata": {
    "collapsed": false,
    "pycharm": {
     "name": "#%%\n"
    }
   }
  },
  {
   "cell_type": "code",
   "execution_count": null,
   "outputs": [],
   "source": [
    "\n",
    "train['target'] = train['Demanda_uni_equil']\n",
    "train.drop(['Demanda_uni_equil'],axis=1, inplace = True)\n",
    "\n",
    "train['tst'] = 0\n",
    "test['tst'] = 1\n",
    "\n",
    "data = pd.concat([train,test], axis=0, copy=True)\n",
    "\n",
    "print('Train and Test Concat')\n",
    "del train\n",
    "del test\n",
    "gc.collect()"
   ],
   "metadata": {
    "collapsed": false,
    "pycharm": {
     "name": "#%%\n"
    }
   }
  },
  {
   "cell_type": "code",
   "execution_count": null,
   "outputs": [],
   "source": [
    "for i in range(1,6):\n",
    "    lag = 'Lag' + str(i)\n",
    "    print('Lag:',lag)\n",
    "\n",
    "    data1 = data[['Semana','Cliente_ID','Producto_ID','target']]\n",
    "    data1.loc[:,'Semana'] = data1['Semana'] +i\n",
    "    data1 = data1.groupby(['Semana','Cliente_ID','Producto_ID']).mean()\n",
    "    data1 = data1.reset_index()\n",
    "    data1.rename(columns={'target': lag}, inplace=True)\n",
    "    data = pd.merge(data,data1,\n",
    "                    how='left',\n",
    "                    left_on=['Semana','Cliente_ID','Producto_ID'],\n",
    "                    right_on=['Semana','Cliente_ID','Producto_ID'],\n",
    "                    left_index=False, right_index=False, sort=True,\n",
    "                    suffixes=('_x', '_y'), copy=False, )\n",
    "    del data1\n",
    "    gc.collect()"
   ],
   "metadata": {
    "collapsed": false,
    "pycharm": {
     "name": "#%%\n"
    }
   }
  },
  {
   "cell_type": "code",
   "execution_count": null,
   "outputs": [],
   "source": [
    "\n",
    "data['TotalLags'] = data['Lag1'] + data['Lag2']+ data['Lag3']+ data['Lag4']+ data['Lag5']\n",
    "\n",
    "data=data[data['Semana']>8]  # NOW I WORK WITH WEEKS 9,10,11\n",
    "\n",
    "nAgencia = pd.DataFrame(data.groupby(['Agencia_ID','Semana'])['target'].count())\n",
    "nAgencia = nAgencia.reset_index()\n",
    "nAgencia.rename(columns={'target': 'nAgencia'}, inplace=True)\n",
    "nAgencia = pd.DataFrame(nAgencia.groupby(['Agencia_ID'])['nAgencia'].mean())\n",
    "nAgencia = nAgencia.reset_index()\n",
    "\n",
    "\n",
    "data = pd.merge(data, nAgencia,\n",
    "                how='left',\n",
    "                left_on=['Agencia_ID'],\n",
    "                right_on=['Agencia_ID'],\n",
    "                left_index=False, right_index=False, sort=True,\n",
    "                suffixes=('_x', '_y'), copy=False)\n",
    "\n",
    "del nAgencia\n",
    "gc.collect()\n",
    "print('merge completo nAgencia')\n",
    "print(data.shape[0])\n",
    "\n",
    "nRuta_SAK = pd.DataFrame(data.groupby(['Ruta_SAK','Semana'])['target'].count())\n",
    "nRuta_SAK = nRuta_SAK.reset_index()\n",
    "nRuta_SAK.rename(columns={'target': 'nRuta_SAK'}, inplace=True)\n",
    "nRuta_SAK = pd.DataFrame(nRuta_SAK.groupby(['Ruta_SAK'])['nRuta_SAK'].mean())\n",
    "nRuta_SAK = nRuta_SAK.reset_index()\n",
    "\n",
    "\n",
    "data = pd.merge(data, nRuta_SAK,\n",
    "                how='left',\n",
    "                left_on=['Ruta_SAK'],\n",
    "                right_on=['Ruta_SAK'],\n",
    "                left_index=False, right_index=False, sort=True,\n",
    "                suffixes=('_x', '_y'), copy=False)\n",
    "\n",
    "del nRuta_SAK\n",
    "gc.collect()\n",
    "print('merge completo nRuta_SAK')\n",
    "print(data.shape[0])\n",
    "\n",
    "nCliente_ID = pd.DataFrame(data.groupby(['Cliente_ID','Semana'])['target'].count())\n",
    "nCliente_ID = nCliente_ID.reset_index()\n",
    "nCliente_ID.rename(columns={'target': 'nCliente_ID'}, inplace=True)\n",
    "nCliente_ID = pd.DataFrame(nCliente_ID.groupby(['Cliente_ID'])['nCliente_ID'].mean())\n",
    "nCliente_ID = nCliente_ID.reset_index()\n",
    "\n",
    "\n",
    "data = pd.merge(data, nCliente_ID,\n",
    "                how='left',\n",
    "                left_on=['Cliente_ID'],\n",
    "                right_on=['Cliente_ID'],\n",
    "                left_index=False, right_index=False, sort=True,\n",
    "                suffixes=('_x', '_y'), copy=False)\n",
    "\n",
    "del nCliente_ID\n",
    "gc.collect()\n",
    "print('merge completo nCliente_ID')\n",
    "print(data.shape[0])\n",
    "\n",
    "nProducto_ID = pd.DataFrame(data.groupby(['Producto_ID','Semana'])['target'].count())\n",
    "nProducto_ID = nProducto_ID.reset_index()\n",
    "nProducto_ID.rename(columns={'target': 'nProducto_ID'}, inplace=True)\n",
    "nProducto_ID = pd.DataFrame(nProducto_ID.groupby(['Producto_ID'])['nProducto_ID'].mean())\n",
    "nProducto_ID = nProducto_ID.reset_index()\n",
    "\n",
    "\n",
    "data = pd.merge(data, nProducto_ID,\n",
    "                how='left',\n",
    "                left_on=['Producto_ID'],\n",
    "                right_on=['Producto_ID'],\n",
    "                left_index=False, right_index=False, sort=True,\n",
    "                suffixes=('_x', '_y'), copy=False)\n",
    "\n",
    "del nProducto_ID\n",
    "gc.collect()\n",
    "print('merge completo nProducto_ID')\n",
    "print(data.shape[0])\n",
    "\n",
    "data.replace(np.nan,0, inplace=True)\n",
    "\n",
    "train = data[data['tst']==0]\n",
    "predict = data[data['tst']==1]\n",
    "\n",
    "train['target'] = np.log(train['target'] + 1)\n",
    "#train2 = train.sample(n=1000000)   <-- another possible reduction of data for fast testing\n",
    "train2 = train\n",
    "y = train['target']\n",
    "X = train[[  'Agencia_ID','Canal_ID','Cliente_ID','Producto_ID','Ruta_SAK',\n",
    "             'Lag1','Lag2','Lag3','Lag4','Lag5','TotalLags',\n",
    "             'nAgencia','nRuta_SAK','nCliente_ID','nProducto_ID']]\n",
    "\n",
    "print(X.shape, y.shape)"
   ],
   "metadata": {
    "collapsed": false,
    "pycharm": {
     "name": "#%%\n"
    }
   }
  },
  {
   "cell_type": "code",
   "execution_count": null,
   "outputs": [],
   "source": [
    "# X.to_csv('x.csv',index=False)\n",
    "# y.to_csv('y.csv',index=False)\n",
    "train.to_csv('data.csv',index=False)"
   ],
   "metadata": {
    "collapsed": false,
    "pycharm": {
     "name": "#%%\n"
    }
   }
  },
  {
   "cell_type": "code",
   "execution_count": null,
   "outputs": [],
   "source": [
    "# sns.palplot(train)"
   ],
   "metadata": {
    "collapsed": false,
    "pycharm": {
     "name": "#%%\n"
    }
   }
  },
  {
   "cell_type": "code",
   "execution_count": null,
   "outputs": [],
   "source": [
    "X=pd.read_csv('x.csv')\n",
    "y=pd.read_csv('y.csv')\n",
    "# split into train and test\n",
    "X_train, X_test, y_train, y_test = train_test_split(X, y, test_size=0.01, random_state=1729)\n",
    "print(X_train.shape, X_test.shape)"
   ],
   "metadata": {
    "collapsed": false,
    "pycharm": {
     "name": "#%%\n"
    }
   }
  },
  {
   "cell_type": "code",
   "execution_count": null,
   "outputs": [],
   "source": [
    "xlf = xgb.XGBRegressor(max_depth=10,\n",
    "                       learning_rate=0.1,\n",
    "                       n_estimators=10,\n",
    "                       silent=True,\n",
    "                       objective=\"reg:squarederror\",\n",
    "                       nthread=-1,\n",
    "                       gamma=0,\n",
    "                       min_child_weight=1,\n",
    "                       max_delta_step=0,\n",
    "                       subsample=0.85,\n",
    "                       colsample_bytree=0.7,\n",
    "                       colsample_bylevel=1,\n",
    "                       reg_alpha=0,\n",
    "                       reg_lambda=1,\n",
    "                       scale_pos_weight=1,\n",
    "                       seed=1440,\n",
    "                       missing=1,\n",
    "                       eval_metric='rmsle')"
   ],
   "metadata": {
    "collapsed": false,
    "pycharm": {
     "name": "#%%\n"
    }
   }
  },
  {
   "cell_type": "code",
   "execution_count": null,
   "outputs": [],
   "source": [
    "xlf.fit(X_train, y_train, verbose = True, eval_set = [(X_test, y_test)])"
   ],
   "metadata": {
    "collapsed": false,
    "pycharm": {
     "name": "#%%\n"
    }
   }
  },
  {
   "cell_type": "code",
   "execution_count": null,
   "outputs": [],
   "source": [
    "# calculate the auc score\n",
    "preds = xlf.predict(X_test)\n",
    "\n",
    "print('\\nRoot Mean Square error of Log(Demanda) X_test\" ', mean_squared_error(y_test,preds)**0.5)\n"
   ],
   "metadata": {
    "collapsed": false,
    "pycharm": {
     "name": "#%%\n"
    }
   }
  },
  {
   "cell_type": "code",
   "execution_count": null,
   "outputs": [],
   "source": [
    "lgbm_regr = lgb.LGBMRegressor(num_leaves=1000,\n",
    "                              max_depth=10,\n",
    "                              random_state=42)\n",
    "\n",
    "lgbm_regr.fit(X_train,y_train,verbose=True,eval_set=(X_test,y_test))"
   ],
   "metadata": {
    "collapsed": false,
    "pycharm": {
     "name": "#%%\n"
    }
   }
  },
  {
   "cell_type": "code",
   "execution_count": null,
   "outputs": [],
   "source": [
    "preds2 = lgbm_regr.predict(X_test)\n",
    "\n",
    "print('\\nRoot Mean Square error of Log(Demanda) X_test\" ', mean_squared_error(y_test,preds2)**0.5)"
   ],
   "metadata": {
    "collapsed": false,
    "pycharm": {
     "name": "#%%\n"
    }
   }
  }
 ],
 "metadata": {
  "kernelspec": {
   "name": "torch",
   "language": "python",
   "display_name": "torch"
  },
  "language_info": {
   "codemirror_mode": {
    "name": "ipython",
    "version": 2
   },
   "file_extension": ".py",
   "mimetype": "text/x-python",
   "name": "python",
   "nbconvert_exporter": "python",
   "pygments_lexer": "ipython2",
   "version": "2.7.6"
  }
 },
 "nbformat": 4,
 "nbformat_minor": 0
}
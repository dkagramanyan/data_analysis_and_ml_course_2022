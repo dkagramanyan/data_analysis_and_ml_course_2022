{
 "cells": [
  {
   "cell_type": "markdown",
   "source": [
    "1. построить графики зависимости целевой переменной от остальных, выявить зависимости (второй вопрос другими словами)"
   ],
   "metadata": {
    "collapsed": false,
    "pycharm": {
     "name": "#%% md\n"
    }
   }
  },
  {
   "cell_type": "code",
   "execution_count": 45,
   "outputs": [],
   "source": [
    "import numpy as np\n",
    "import pandas as pd\n",
    "import seaborn as sns\n",
    "from matplotlib import pyplot as plt\n",
    "\n",
    "from sklearn.model_selection import train_test_split\n",
    "from sklearn.linear_model import  LinearRegression,BayesianRidge\n",
    "from sklearn.model_selection import cross_validate,cross_val_score\n",
    "from sklearn.preprocessing import PolynomialFeatures, KBinsDiscretizer\n"
   ],
   "metadata": {
    "collapsed": false,
    "pycharm": {
     "name": "#%%\n"
    }
   }
  },
  {
   "cell_type": "code",
   "execution_count": null,
   "outputs": [],
   "source": [
    "data=pd.read_csv('lab01.csv')\n",
    "del data['Unnamed: 0']\n",
    "data.head()"
   ],
   "metadata": {
    "collapsed": false,
    "pycharm": {
     "name": "#%%\n"
    }
   }
  },
  {
   "cell_type": "code",
   "execution_count": null,
   "outputs": [],
   "source": [
    "data.hist()\n",
    "plt.show()"
   ],
   "metadata": {
    "collapsed": false,
    "pycharm": {
     "name": "#%%\n"
    }
   }
  },
  {
   "cell_type": "code",
   "execution_count": null,
   "outputs": [],
   "source": [
    "# парная диаграмма\n",
    "# можно использовать heatmap\n",
    "sns.pairplot(data)\n",
    "plt.show()"
   ],
   "metadata": {
    "collapsed": false,
    "pycharm": {
     "name": "#%%\n"
    }
   }
  },
  {
   "cell_type": "markdown",
   "source": [
    "2. Посмотреть корреляцию между переменными (первый вопрос другими словами)"
   ],
   "metadata": {
    "collapsed": false,
    "pycharm": {
     "name": "#%% md\n"
    }
   }
  },
  {
   "cell_type": "code",
   "execution_count": 107,
   "outputs": [
    {
     "data": {
      "text/plain": "                x2        x3        x4        x5    target  x1_весна  \\\nx2        1.000000 -0.031210  0.030458  0.047308  0.556719  0.030420   \nx3       -0.031210  1.000000  0.040714  0.001254  0.522521 -0.009601   \nx4        0.030458  0.040714  1.000000  0.010863 -0.297098  0.006076   \nx5        0.047308  0.001254  0.010863  1.000000  0.027597 -0.007399   \ntarget    0.556719  0.522521 -0.297098  0.027597  1.000000  0.019340   \nx1_весна  0.030420 -0.009601  0.006076 -0.007399  0.019340  1.000000   \nx1_зима  -0.010294  0.006544  0.010955 -0.006646 -0.267587 -0.337792   \nx1_лето  -0.004061 -0.014959  0.013396 -0.004274  0.316556 -0.339584   \nx1_осень -0.016338  0.018342 -0.030931  0.018617 -0.070209 -0.327935   \n\n           x1_зима   x1_лето  x1_осень  \nx2       -0.010294 -0.004061 -0.016338  \nx3        0.006544 -0.014959  0.018342  \nx4        0.010955  0.013396 -0.030931  \nx5       -0.006646 -0.004274  0.018617  \ntarget   -0.267587  0.316556 -0.070209  \nx1_весна -0.337792 -0.339584 -0.327935  \nx1_зима   1.000000 -0.338686 -0.327067  \nx1_лето  -0.338686  1.000000 -0.328802  \nx1_осень -0.327067 -0.328802  1.000000  ",
      "text/html": "<div>\n<style scoped>\n    .dataframe tbody tr th:only-of-type {\n        vertical-align: middle;\n    }\n\n    .dataframe tbody tr th {\n        vertical-align: top;\n    }\n\n    .dataframe thead th {\n        text-align: right;\n    }\n</style>\n<table border=\"1\" class=\"dataframe\">\n  <thead>\n    <tr style=\"text-align: right;\">\n      <th></th>\n      <th>x2</th>\n      <th>x3</th>\n      <th>x4</th>\n      <th>x5</th>\n      <th>target</th>\n      <th>x1_весна</th>\n      <th>x1_зима</th>\n      <th>x1_лето</th>\n      <th>x1_осень</th>\n    </tr>\n  </thead>\n  <tbody>\n    <tr>\n      <th>x2</th>\n      <td>1.000000</td>\n      <td>-0.031210</td>\n      <td>0.030458</td>\n      <td>0.047308</td>\n      <td>0.556719</td>\n      <td>0.030420</td>\n      <td>-0.010294</td>\n      <td>-0.004061</td>\n      <td>-0.016338</td>\n    </tr>\n    <tr>\n      <th>x3</th>\n      <td>-0.031210</td>\n      <td>1.000000</td>\n      <td>0.040714</td>\n      <td>0.001254</td>\n      <td>0.522521</td>\n      <td>-0.009601</td>\n      <td>0.006544</td>\n      <td>-0.014959</td>\n      <td>0.018342</td>\n    </tr>\n    <tr>\n      <th>x4</th>\n      <td>0.030458</td>\n      <td>0.040714</td>\n      <td>1.000000</td>\n      <td>0.010863</td>\n      <td>-0.297098</td>\n      <td>0.006076</td>\n      <td>0.010955</td>\n      <td>0.013396</td>\n      <td>-0.030931</td>\n    </tr>\n    <tr>\n      <th>x5</th>\n      <td>0.047308</td>\n      <td>0.001254</td>\n      <td>0.010863</td>\n      <td>1.000000</td>\n      <td>0.027597</td>\n      <td>-0.007399</td>\n      <td>-0.006646</td>\n      <td>-0.004274</td>\n      <td>0.018617</td>\n    </tr>\n    <tr>\n      <th>target</th>\n      <td>0.556719</td>\n      <td>0.522521</td>\n      <td>-0.297098</td>\n      <td>0.027597</td>\n      <td>1.000000</td>\n      <td>0.019340</td>\n      <td>-0.267587</td>\n      <td>0.316556</td>\n      <td>-0.070209</td>\n    </tr>\n    <tr>\n      <th>x1_весна</th>\n      <td>0.030420</td>\n      <td>-0.009601</td>\n      <td>0.006076</td>\n      <td>-0.007399</td>\n      <td>0.019340</td>\n      <td>1.000000</td>\n      <td>-0.337792</td>\n      <td>-0.339584</td>\n      <td>-0.327935</td>\n    </tr>\n    <tr>\n      <th>x1_зима</th>\n      <td>-0.010294</td>\n      <td>0.006544</td>\n      <td>0.010955</td>\n      <td>-0.006646</td>\n      <td>-0.267587</td>\n      <td>-0.337792</td>\n      <td>1.000000</td>\n      <td>-0.338686</td>\n      <td>-0.327067</td>\n    </tr>\n    <tr>\n      <th>x1_лето</th>\n      <td>-0.004061</td>\n      <td>-0.014959</td>\n      <td>0.013396</td>\n      <td>-0.004274</td>\n      <td>0.316556</td>\n      <td>-0.339584</td>\n      <td>-0.338686</td>\n      <td>1.000000</td>\n      <td>-0.328802</td>\n    </tr>\n    <tr>\n      <th>x1_осень</th>\n      <td>-0.016338</td>\n      <td>0.018342</td>\n      <td>-0.030931</td>\n      <td>0.018617</td>\n      <td>-0.070209</td>\n      <td>-0.327935</td>\n      <td>-0.327067</td>\n      <td>-0.328802</td>\n      <td>1.000000</td>\n    </tr>\n  </tbody>\n</table>\n</div>"
     },
     "execution_count": 107,
     "metadata": {},
     "output_type": "execute_result"
    }
   ],
   "source": [
    "# коэффициент корреляции (пирсона)= ковариация/(sigma1*sigma2)\n",
    "new_df=pd.get_dummies(data)\n",
    "new_df.corr()"
   ],
   "metadata": {
    "collapsed": false,
    "pycharm": {
     "name": "#%%\n"
    }
   }
  },
  {
   "cell_type": "markdown",
   "source": [
    "3. Рассмотреть линейную, полиномиальную и кусочно-постоянную модели"
   ],
   "metadata": {
    "collapsed": false,
    "pycharm": {
     "name": "#%% md\n"
    }
   }
  },
  {
   "cell_type": "code",
   "execution_count": null,
   "outputs": [],
   "source": [
    "x = new_df.drop('target', axis = 1)\n",
    "y = new_df['target']"
   ],
   "metadata": {
    "collapsed": false,
    "pycharm": {
     "name": "#%%\n"
    }
   }
  },
  {
   "cell_type": "code",
   "execution_count": null,
   "outputs": [],
   "source": [
    "x_train, x_test, y_train, y_test = train_test_split(x, y, test_size=0.2)\n",
    "\n",
    "model=LinearRegression()\n",
    "results = cross_validate(estimator=model, X=x_train, y=y_train,\n",
    "                           scoring='r2', cv=5,\n",
    "                           return_train_score=True,\n",
    "                           return_estimator=True)\n",
    "print(results)\n",
    "val_results=cross_val_score(estimator=model, X=x_test, y=y_test,\n",
    "                            cv=5, scoring = 'r2')\n",
    "print('--------')\n",
    "print(val_results)"
   ],
   "metadata": {
    "collapsed": false,
    "pycharm": {
     "name": "#%%\n"
    }
   }
  },
  {
   "cell_type": "code",
   "execution_count": null,
   "outputs": [],
   "source": [
    "poly_features = PolynomialFeatures(degree=(1,5))\n",
    "x_poly=poly_features.fit_transform(x)\n",
    "x_train, x_test, y_train, y_test = train_test_split(x_poly, y, test_size=0.2)\n",
    "\n",
    "model = LinearRegression()\n",
    "\n",
    "results = cross_validate(estimator=model, X=x_train, y=y_train,\n",
    "                         scoring='r2', cv=5,\n",
    "                         return_train_score=True,\n",
    "                         return_estimator=True)\n",
    "print(results)\n",
    "\n",
    "val_results=cross_val_score(estimator=model, X=x_test, y=y_test,\n",
    "                            cv=5, scoring = 'r2')\n",
    "print('--------')\n",
    "print(val_results)"
   ],
   "metadata": {
    "collapsed": false,
    "pycharm": {
     "name": "#%%\n"
    }
   }
  },
  {
   "cell_type": "code",
   "execution_count": null,
   "outputs": [],
   "source": [
    "results['estimator'][0].__dict__"
   ],
   "metadata": {
    "collapsed": false,
    "pycharm": {
     "name": "#%%\n"
    }
   }
  },
  {
   "cell_type": "code",
   "execution_count": 30,
   "outputs": [
    {
     "data": {
      "text/plain": "        x1    x2    x3          x4          x5    target\n0    осень   6.0  10.0  684.853714  489.727534  127000.0\n1     лето   6.0   5.0  787.439842  129.226659   54200.0\n2     лето   7.0   8.0  934.334854  996.189811  107600.0\n3     зима   7.0   7.0  507.949612  553.560324   91800.0\n4     зима  10.0  10.0  154.831480   88.940079  171500.0\n..     ...   ...   ...         ...         ...       ...\n995  осень   8.0   5.0  827.094070    4.385557   61800.0\n996  осень   7.0   6.0  842.487798  164.747387   53800.0\n997  осень  10.0   7.0  497.651151  639.352422  122800.0\n998  осень   8.0   6.0  282.684179  194.777096   84400.0\n999   зима  10.0   8.0  837.751235  453.171884  109800.0\n\n[1000 rows x 6 columns]",
      "text/html": "<div>\n<style scoped>\n    .dataframe tbody tr th:only-of-type {\n        vertical-align: middle;\n    }\n\n    .dataframe tbody tr th {\n        vertical-align: top;\n    }\n\n    .dataframe thead th {\n        text-align: right;\n    }\n</style>\n<table border=\"1\" class=\"dataframe\">\n  <thead>\n    <tr style=\"text-align: right;\">\n      <th></th>\n      <th>x1</th>\n      <th>x2</th>\n      <th>x3</th>\n      <th>x4</th>\n      <th>x5</th>\n      <th>target</th>\n    </tr>\n  </thead>\n  <tbody>\n    <tr>\n      <th>0</th>\n      <td>осень</td>\n      <td>6.0</td>\n      <td>10.0</td>\n      <td>684.853714</td>\n      <td>489.727534</td>\n      <td>127000.0</td>\n    </tr>\n    <tr>\n      <th>1</th>\n      <td>лето</td>\n      <td>6.0</td>\n      <td>5.0</td>\n      <td>787.439842</td>\n      <td>129.226659</td>\n      <td>54200.0</td>\n    </tr>\n    <tr>\n      <th>2</th>\n      <td>лето</td>\n      <td>7.0</td>\n      <td>8.0</td>\n      <td>934.334854</td>\n      <td>996.189811</td>\n      <td>107600.0</td>\n    </tr>\n    <tr>\n      <th>3</th>\n      <td>зима</td>\n      <td>7.0</td>\n      <td>7.0</td>\n      <td>507.949612</td>\n      <td>553.560324</td>\n      <td>91800.0</td>\n    </tr>\n    <tr>\n      <th>4</th>\n      <td>зима</td>\n      <td>10.0</td>\n      <td>10.0</td>\n      <td>154.831480</td>\n      <td>88.940079</td>\n      <td>171500.0</td>\n    </tr>\n    <tr>\n      <th>...</th>\n      <td>...</td>\n      <td>...</td>\n      <td>...</td>\n      <td>...</td>\n      <td>...</td>\n      <td>...</td>\n    </tr>\n    <tr>\n      <th>995</th>\n      <td>осень</td>\n      <td>8.0</td>\n      <td>5.0</td>\n      <td>827.094070</td>\n      <td>4.385557</td>\n      <td>61800.0</td>\n    </tr>\n    <tr>\n      <th>996</th>\n      <td>осень</td>\n      <td>7.0</td>\n      <td>6.0</td>\n      <td>842.487798</td>\n      <td>164.747387</td>\n      <td>53800.0</td>\n    </tr>\n    <tr>\n      <th>997</th>\n      <td>осень</td>\n      <td>10.0</td>\n      <td>7.0</td>\n      <td>497.651151</td>\n      <td>639.352422</td>\n      <td>122800.0</td>\n    </tr>\n    <tr>\n      <th>998</th>\n      <td>осень</td>\n      <td>8.0</td>\n      <td>6.0</td>\n      <td>282.684179</td>\n      <td>194.777096</td>\n      <td>84400.0</td>\n    </tr>\n    <tr>\n      <th>999</th>\n      <td>зима</td>\n      <td>10.0</td>\n      <td>8.0</td>\n      <td>837.751235</td>\n      <td>453.171884</td>\n      <td>109800.0</td>\n    </tr>\n  </tbody>\n</table>\n<p>1000 rows × 6 columns</p>\n</div>"
     },
     "execution_count": 30,
     "metadata": {},
     "output_type": "execute_result"
    }
   ],
   "source": [
    "data"
   ],
   "metadata": {
    "collapsed": false,
    "pycharm": {
     "name": "#%%\n"
    }
   }
  },
  {
   "cell_type": "code",
   "execution_count": 103,
   "outputs": [],
   "source": [
    "# прогонять x4 и x5\n",
    "# 1,2,3\n",
    "# encode\n",
    "disc_features = KBinsDiscretizer(n_bins=15, encode='onehot-dense')\n",
    "x_4_5_disc=data[['x4','x5']]\n",
    "x_4_5_disc=disc_features.fit_transform(x_4_5_disc)\n",
    "\n",
    "x_1_2_3_disc=pd.get_dummies(data[['x1','x2','x3']].astype(str))\n",
    "\n",
    "x_disc=np.concatenate([x_1_2_3_disc.values,x_4_5_disc],axis=1)"
   ],
   "metadata": {
    "collapsed": false,
    "pycharm": {
     "name": "#%%\n"
    }
   }
  },
  {
   "cell_type": "code",
   "execution_count": 58,
   "outputs": [
    {
     "data": {
      "text/plain": "     x3_10.0  x3_5.0  x3_6.0  x3_7.0  x3_8.0  x3_9.0\n0          1       0       0       0       0       0\n1          0       1       0       0       0       0\n2          0       0       0       0       1       0\n3          0       0       0       1       0       0\n4          1       0       0       0       0       0\n..       ...     ...     ...     ...     ...     ...\n995        0       1       0       0       0       0\n996        0       0       1       0       0       0\n997        0       0       0       1       0       0\n998        0       0       1       0       0       0\n999        0       0       0       0       1       0\n\n[1000 rows x 6 columns]",
      "text/html": "<div>\n<style scoped>\n    .dataframe tbody tr th:only-of-type {\n        vertical-align: middle;\n    }\n\n    .dataframe tbody tr th {\n        vertical-align: top;\n    }\n\n    .dataframe thead th {\n        text-align: right;\n    }\n</style>\n<table border=\"1\" class=\"dataframe\">\n  <thead>\n    <tr style=\"text-align: right;\">\n      <th></th>\n      <th>x3_10.0</th>\n      <th>x3_5.0</th>\n      <th>x3_6.0</th>\n      <th>x3_7.0</th>\n      <th>x3_8.0</th>\n      <th>x3_9.0</th>\n    </tr>\n  </thead>\n  <tbody>\n    <tr>\n      <th>0</th>\n      <td>1</td>\n      <td>0</td>\n      <td>0</td>\n      <td>0</td>\n      <td>0</td>\n      <td>0</td>\n    </tr>\n    <tr>\n      <th>1</th>\n      <td>0</td>\n      <td>1</td>\n      <td>0</td>\n      <td>0</td>\n      <td>0</td>\n      <td>0</td>\n    </tr>\n    <tr>\n      <th>2</th>\n      <td>0</td>\n      <td>0</td>\n      <td>0</td>\n      <td>0</td>\n      <td>1</td>\n      <td>0</td>\n    </tr>\n    <tr>\n      <th>3</th>\n      <td>0</td>\n      <td>0</td>\n      <td>0</td>\n      <td>1</td>\n      <td>0</td>\n      <td>0</td>\n    </tr>\n    <tr>\n      <th>4</th>\n      <td>1</td>\n      <td>0</td>\n      <td>0</td>\n      <td>0</td>\n      <td>0</td>\n      <td>0</td>\n    </tr>\n    <tr>\n      <th>...</th>\n      <td>...</td>\n      <td>...</td>\n      <td>...</td>\n      <td>...</td>\n      <td>...</td>\n      <td>...</td>\n    </tr>\n    <tr>\n      <th>995</th>\n      <td>0</td>\n      <td>1</td>\n      <td>0</td>\n      <td>0</td>\n      <td>0</td>\n      <td>0</td>\n    </tr>\n    <tr>\n      <th>996</th>\n      <td>0</td>\n      <td>0</td>\n      <td>1</td>\n      <td>0</td>\n      <td>0</td>\n      <td>0</td>\n    </tr>\n    <tr>\n      <th>997</th>\n      <td>0</td>\n      <td>0</td>\n      <td>0</td>\n      <td>1</td>\n      <td>0</td>\n      <td>0</td>\n    </tr>\n    <tr>\n      <th>998</th>\n      <td>0</td>\n      <td>0</td>\n      <td>1</td>\n      <td>0</td>\n      <td>0</td>\n      <td>0</td>\n    </tr>\n    <tr>\n      <th>999</th>\n      <td>0</td>\n      <td>0</td>\n      <td>0</td>\n      <td>0</td>\n      <td>1</td>\n      <td>0</td>\n    </tr>\n  </tbody>\n</table>\n<p>1000 rows × 6 columns</p>\n</div>"
     },
     "execution_count": 58,
     "metadata": {},
     "output_type": "execute_result"
    }
   ],
   "source": [
    "pd.get_dummies(data[['x3']].astype(str))"
   ],
   "metadata": {
    "collapsed": false,
    "pycharm": {
     "name": "#%%\n"
    }
   }
  },
  {
   "cell_type": "code",
   "execution_count": 106,
   "outputs": [
    {
     "name": "stdout",
     "output_type": "stream",
     "text": [
      "{'fit_time': array([0.01577401, 0.00983381, 0.0085969 , 0.00855422, 0.00737214]), 'score_time': array([0.00047708, 0.00039721, 0.00028014, 0.00022101, 0.00025868]), 'estimator': [LinearRegression(), LinearRegression(), LinearRegression(), LinearRegression(), LinearRegression()], 'test_score': array([0.94279184, 0.91762379, 0.94491379, 0.94713151, 0.90760739]), 'train_score': array([0.94002782, 0.9452607 , 0.93987985, 0.93717713, 0.94645408])}\n",
      "--------\n",
      "[0.93879975 0.93527154 0.96227533 0.94562543 0.90092648]\n"
     ]
    }
   ],
   "source": [
    "\n",
    "x_train, x_test, y_train, y_test = train_test_split(x_disc, y, test_size=0.2)\n",
    "\n",
    "model = LinearRegression()\n",
    "\n",
    "results = cross_validate(estimator=model, X=x_train, y=y_train,\n",
    "                         scoring='r2', cv=5,\n",
    "                         return_train_score=True,\n",
    "                         return_estimator=True)\n",
    "print(results)\n",
    "\n",
    "val_results=cross_val_score(estimator=model, X=x_test, y=y_test,\n",
    "                            cv=5, scoring = 'r2')\n",
    "print('--------')\n",
    "print(val_results)"
   ],
   "metadata": {
    "collapsed": false,
    "pycharm": {
     "name": "#%%\n"
    }
   }
  },
  {
   "cell_type": "code",
   "execution_count": null,
   "outputs": [],
   "source": [],
   "metadata": {
    "collapsed": false,
    "pycharm": {
     "name": "#%%\n"
    }
   }
  }
 ],
 "metadata": {
  "kernelspec": {
   "name": "torch",
   "language": "python",
   "display_name": "torch"
  },
  "language_info": {
   "codemirror_mode": {
    "name": "ipython",
    "version": 2
   },
   "file_extension": ".py",
   "mimetype": "text/x-python",
   "name": "python",
   "nbconvert_exporter": "python",
   "pygments_lexer": "ipython2",
   "version": "2.7.6"
  }
 },
 "nbformat": 4,
 "nbformat_minor": 0
}